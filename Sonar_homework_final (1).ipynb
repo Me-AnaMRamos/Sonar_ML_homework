{
 "cells": [
  {
   "cell_type": "markdown",
   "id": "e1952834",
   "metadata": {},
   "source": [
    "# ${\\large \\textbf{Homework two: Rock or Mine}}$.\n",
    "\n",
    "In this notebook we'll work with the dataset within the file sonar.mines which can be found at Connectionist Bench (Sonar, Mines vs. Rocks) Data Se. It contains $111$ patterns obtained by bouncing sonar signals off a metal cylinder at various angles spanning $90$ degrees, and $97$ patterns obtained by bouncing sonar signals off from cylindrically shaped rocks spanning $180$ degrees. The dataset in short containts $206$ samples having as feature vectors a representation of the energy within a particular frequency band obtained through the sonar returns from $60$ spectral angle normalized samples, thus taking on values between $0.0$ and $1.0$.\n",
    "\n",
    "The label associated with each record is \"R\" if the object is a rock and \"M\" if it is a mine (metal cylinder). We'll perform an analysis of the data to obtain most representative examples by removing outliars, then split the data and perform 5-cross validatition to get a better settlement for hyperparameters through f1-scorersto finally run some algorithms of the most usual machine learning methods for binary classification: SVM, decision trees, K-nearest neighbors, logistic regression and also linear regression.\n"
   ]
  },
  {
   "cell_type": "markdown",
   "id": "565020e6",
   "metadata": {},
   "source": [
    "# ${\\normalsize{Implementation}}$."
   ]
  },
  {
   "cell_type": "markdown",
   "id": "cf2afae6",
   "metadata": {},
   "source": [
    "Read sonar's data."
   ]
  },
  {
   "cell_type": "code",
   "execution_count": 136,
   "id": "933a2595",
   "metadata": {},
   "outputs": [],
   "source": [
    "import Pkg\n",
    "Pkg.add(\"CSV\")\n",
    "Pkg.add(\"DataFrames\")\n",
    "Pkg.add(\"StatsBase\")\n",
    "Pkg.add(\"Random\")\n",
    "Pkg.add(\"Plots\")\n",
    "Pkg.add(\"Distances\")\n",
    "Pkg.add(\"Distributions\")\n",
    "Pkg.add(\"MultivariateStats\")\n",
    "Pkg.add(\"Metrics\")"
   ]
  },
  {
   "cell_type": "code",
   "execution_count": 137,
   "id": "c33d41a7",
   "metadata": {},
   "outputs": [],
   "source": [
    "using CSV\n",
    "using DataFrames\n",
    "using Random\n",
    "using Plots"
   ]
  },
  {
   "cell_type": "code",
   "execution_count": 298,
   "id": "66621cf6",
   "metadata": {},
   "outputs": [],
   "source": [
    "Path = \"C:\\\\dataSonar.csv\";\n",
    "dataSonar = CSV.read(Path,DataFrame, header=0);"
   ]
  },
  {
   "cell_type": "markdown",
   "id": "ad062e56",
   "metadata": {},
   "source": [
    "In order to run some methods and analysis for the dataset we'll first reaplace the \"M\" label with the numeric label 1 and the \"R\" label with numeric label 0."
   ]
  },
  {
   "cell_type": "code",
   "execution_count": 299,
   "id": "4e3ebf59",
   "metadata": {},
   "outputs": [],
   "source": [
    "# Converting char labels to numeric labels\n",
    "using DataFrames\n",
    "n = nrow(dataSonar)\n",
    "\n",
    "dataSonar.\"Column61\".=replace.(dataSonar.\"Column61\", \"M\" => 1)\n",
    "dataSonar.\"Column61\".=replace.(dataSonar.\"Column61\", \"R\" => 0)\n",
    "dataSonar.\"Column61\"=parse.(Float64, dataSonar.\"Column61\");\n",
    "\n",
    "DSMat=Matrix(dataSonar);\n"
   ]
  },
  {
   "cell_type": "markdown",
   "id": "0776c85d",
   "metadata": {},
   "source": [
    "# Data descriptive analysis"
   ]
  },
  {
   "cell_type": "markdown",
   "id": "c68ff388",
   "metadata": {},
   "source": [
    "First we use Mahalanobis measure to remove outliers which we'll set as the datapoints that are further from the mean than $99\\%$ of datapoints. In order to do this we assume the squared Mahalanobis distance distribution for this instance as being Chi squared with 61 degrees of freedom. "
   ]
  },
  {
   "cell_type": "code",
   "execution_count": 228,
   "id": "c14eac29",
   "metadata": {},
   "outputs": [
    {
     "data": {
      "text/plain": [
       "89.59134449068706"
      ]
     },
     "execution_count": 228,
     "metadata": {},
     "output_type": "execute_result"
    }
   ],
   "source": [
    "using Distributions\n",
    "\n",
    "quantile.(Chisq(61), 0.99)"
   ]
  },
  {
   "cell_type": "code",
   "execution_count": 229,
   "id": "5925ae4d",
   "metadata": {},
   "outputs": [
    {
     "name": "stderr",
     "output_type": "stream",
     "text": [
      "┌ Warning: matrix is not symmetric/Hermitian\n",
      "└ @ Distances C:\\Users\\Ramos\\.julia\\packages\\Distances\\6E33b\\src\\mahalanobis.jl:26\n",
      "┌ Warning: matrix is not symmetric/Hermitian\n",
      "└ @ Distances C:\\Users\\Ramos\\.julia\\packages\\Distances\\6E33b\\src\\mahalanobis.jl:26\n",
      "┌ Warning: matrix is not symmetric/Hermitian\n",
      "└ @ Distances C:\\Users\\Ramos\\.julia\\packages\\Distances\\6E33b\\src\\mahalanobis.jl:26\n",
      "┌ Warning: matrix is not symmetric/Hermitian\n",
      "└ @ Distances C:\\Users\\Ramos\\.julia\\packages\\Distances\\6E33b\\src\\mahalanobis.jl:26\n",
      "┌ Warning: matrix is not symmetric/Hermitian\n",
      "└ @ Distances C:\\Users\\Ramos\\.julia\\packages\\Distances\\6E33b\\src\\mahalanobis.jl:26\n",
      "┌ Warning: matrix is not symmetric/Hermitian\n",
      "└ @ Distances C:\\Users\\Ramos\\.julia\\packages\\Distances\\6E33b\\src\\mahalanobis.jl:26\n",
      "┌ Warning: matrix is not symmetric/Hermitian\n",
      "└ @ Distances C:\\Users\\Ramos\\.julia\\packages\\Distances\\6E33b\\src\\mahalanobis.jl:26\n",
      "┌ Warning: matrix is not symmetric/Hermitian\n",
      "└ @ Distances C:\\Users\\Ramos\\.julia\\packages\\Distances\\6E33b\\src\\mahalanobis.jl:26\n",
      "┌ Warning: matrix is not symmetric/Hermitian\n",
      "└ @ Distances C:\\Users\\Ramos\\.julia\\packages\\Distances\\6E33b\\src\\mahalanobis.jl:26\n",
      "┌ Warning: matrix is not symmetric/Hermitian\n",
      "└ @ Distances C:\\Users\\Ramos\\.julia\\packages\\Distances\\6E33b\\src\\mahalanobis.jl:26\n",
      "┌ Warning: matrix is not symmetric/Hermitian\n",
      "└ @ Distances C:\\Users\\Ramos\\.julia\\packages\\Distances\\6E33b\\src\\mahalanobis.jl:26\n",
      "┌ Warning: matrix is not symmetric/Hermitian\n",
      "└ @ Distances C:\\Users\\Ramos\\.julia\\packages\\Distances\\6E33b\\src\\mahalanobis.jl:26\n",
      "┌ Warning: matrix is not symmetric/Hermitian\n",
      "└ @ Distances C:\\Users\\Ramos\\.julia\\packages\\Distances\\6E33b\\src\\mahalanobis.jl:26\n",
      "┌ Warning: matrix is not symmetric/Hermitian\n",
      "└ @ Distances C:\\Users\\Ramos\\.julia\\packages\\Distances\\6E33b\\src\\mahalanobis.jl:26\n",
      "┌ Warning: matrix is not symmetric/Hermitian\n",
      "└ @ Distances C:\\Users\\Ramos\\.julia\\packages\\Distances\\6E33b\\src\\mahalanobis.jl:26\n",
      "┌ Warning: matrix is not symmetric/Hermitian\n",
      "└ @ Distances C:\\Users\\Ramos\\.julia\\packages\\Distances\\6E33b\\src\\mahalanobis.jl:26\n",
      "┌ Warning: matrix is not symmetric/Hermitian\n",
      "└ @ Distances C:\\Users\\Ramos\\.julia\\packages\\Distances\\6E33b\\src\\mahalanobis.jl:26\n",
      "┌ Warning: matrix is not symmetric/Hermitian\n",
      "└ @ Distances C:\\Users\\Ramos\\.julia\\packages\\Distances\\6E33b\\src\\mahalanobis.jl:26\n",
      "┌ Warning: matrix is not symmetric/Hermitian\n",
      "└ @ Distances C:\\Users\\Ramos\\.julia\\packages\\Distances\\6E33b\\src\\mahalanobis.jl:26\n",
      "┌ Warning: matrix is not symmetric/Hermitian\n",
      "└ @ Distances C:\\Users\\Ramos\\.julia\\packages\\Distances\\6E33b\\src\\mahalanobis.jl:26\n",
      "┌ Warning: matrix is not symmetric/Hermitian\n",
      "└ @ Distances C:\\Users\\Ramos\\.julia\\packages\\Distances\\6E33b\\src\\mahalanobis.jl:26\n",
      "┌ Warning: matrix is not symmetric/Hermitian\n",
      "└ @ Distances C:\\Users\\Ramos\\.julia\\packages\\Distances\\6E33b\\src\\mahalanobis.jl:26\n",
      "┌ Warning: matrix is not symmetric/Hermitian\n",
      "└ @ Distances C:\\Users\\Ramos\\.julia\\packages\\Distances\\6E33b\\src\\mahalanobis.jl:26\n",
      "┌ Warning: matrix is not symmetric/Hermitian\n",
      "└ @ Distances C:\\Users\\Ramos\\.julia\\packages\\Distances\\6E33b\\src\\mahalanobis.jl:26\n",
      "┌ Warning: matrix is not symmetric/Hermitian\n",
      "└ @ Distances C:\\Users\\Ramos\\.julia\\packages\\Distances\\6E33b\\src\\mahalanobis.jl:26\n",
      "┌ Warning: matrix is not symmetric/Hermitian\n",
      "└ @ Distances C:\\Users\\Ramos\\.julia\\packages\\Distances\\6E33b\\src\\mahalanobis.jl:26\n",
      "┌ Warning: matrix is not symmetric/Hermitian\n",
      "└ @ Distances C:\\Users\\Ramos\\.julia\\packages\\Distances\\6E33b\\src\\mahalanobis.jl:26\n",
      "┌ Warning: matrix is not symmetric/Hermitian\n",
      "└ @ Distances C:\\Users\\Ramos\\.julia\\packages\\Distances\\6E33b\\src\\mahalanobis.jl:26\n",
      "┌ Warning: matrix is not symmetric/Hermitian\n",
      "└ @ Distances C:\\Users\\Ramos\\.julia\\packages\\Distances\\6E33b\\src\\mahalanobis.jl:26\n",
      "┌ Warning: matrix is not symmetric/Hermitian\n",
      "└ @ Distances C:\\Users\\Ramos\\.julia\\packages\\Distances\\6E33b\\src\\mahalanobis.jl:26\n",
      "┌ Warning: matrix is not symmetric/Hermitian\n",
      "└ @ Distances C:\\Users\\Ramos\\.julia\\packages\\Distances\\6E33b\\src\\mahalanobis.jl:26\n",
      "┌ Warning: matrix is not symmetric/Hermitian\n",
      "└ @ Distances C:\\Users\\Ramos\\.julia\\packages\\Distances\\6E33b\\src\\mahalanobis.jl:26\n",
      "┌ Warning: matrix is not symmetric/Hermitian\n",
      "└ @ Distances C:\\Users\\Ramos\\.julia\\packages\\Distances\\6E33b\\src\\mahalanobis.jl:26\n",
      "┌ Warning: matrix is not symmetric/Hermitian\n",
      "└ @ Distances C:\\Users\\Ramos\\.julia\\packages\\Distances\\6E33b\\src\\mahalanobis.jl:26\n",
      "┌ Warning: matrix is not symmetric/Hermitian\n",
      "└ @ Distances C:\\Users\\Ramos\\.julia\\packages\\Distances\\6E33b\\src\\mahalanobis.jl:26\n",
      "┌ Warning: matrix is not symmetric/Hermitian\n",
      "└ @ Distances C:\\Users\\Ramos\\.julia\\packages\\Distances\\6E33b\\src\\mahalanobis.jl:26\n",
      "┌ Warning: matrix is not symmetric/Hermitian\n",
      "└ @ Distances C:\\Users\\Ramos\\.julia\\packages\\Distances\\6E33b\\src\\mahalanobis.jl:26\n",
      "┌ Warning: matrix is not symmetric/Hermitian\n",
      "└ @ Distances C:\\Users\\Ramos\\.julia\\packages\\Distances\\6E33b\\src\\mahalanobis.jl:26\n",
      "┌ Warning: matrix is not symmetric/Hermitian\n",
      "└ @ Distances C:\\Users\\Ramos\\.julia\\packages\\Distances\\6E33b\\src\\mahalanobis.jl:26\n",
      "┌ Warning: matrix is not symmetric/Hermitian\n",
      "└ @ Distances C:\\Users\\Ramos\\.julia\\packages\\Distances\\6E33b\\src\\mahalanobis.jl:26\n",
      "┌ Warning: matrix is not symmetric/Hermitian\n",
      "└ @ Distances C:\\Users\\Ramos\\.julia\\packages\\Distances\\6E33b\\src\\mahalanobis.jl:26\n",
      "┌ Warning: matrix is not symmetric/Hermitian\n",
      "└ @ Distances C:\\Users\\Ramos\\.julia\\packages\\Distances\\6E33b\\src\\mahalanobis.jl:26\n",
      "┌ Warning: matrix is not symmetric/Hermitian\n",
      "└ @ Distances C:\\Users\\Ramos\\.julia\\packages\\Distances\\6E33b\\src\\mahalanobis.jl:26\n",
      "┌ Warning: matrix is not symmetric/Hermitian\n",
      "└ @ Distances C:\\Users\\Ramos\\.julia\\packages\\Distances\\6E33b\\src\\mahalanobis.jl:26\n",
      "┌ Warning: matrix is not symmetric/Hermitian\n",
      "└ @ Distances C:\\Users\\Ramos\\.julia\\packages\\Distances\\6E33b\\src\\mahalanobis.jl:26\n",
      "┌ Warning: matrix is not symmetric/Hermitian\n",
      "└ @ Distances C:\\Users\\Ramos\\.julia\\packages\\Distances\\6E33b\\src\\mahalanobis.jl:26\n",
      "┌ Warning: matrix is not symmetric/Hermitian\n",
      "└ @ Distances C:\\Users\\Ramos\\.julia\\packages\\Distances\\6E33b\\src\\mahalanobis.jl:26\n",
      "┌ Warning: matrix is not symmetric/Hermitian\n",
      "└ @ Distances C:\\Users\\Ramos\\.julia\\packages\\Distances\\6E33b\\src\\mahalanobis.jl:26\n",
      "┌ Warning: matrix is not symmetric/Hermitian\n",
      "└ @ Distances C:\\Users\\Ramos\\.julia\\packages\\Distances\\6E33b\\src\\mahalanobis.jl:26\n",
      "┌ Warning: matrix is not symmetric/Hermitian\n",
      "└ @ Distances C:\\Users\\Ramos\\.julia\\packages\\Distances\\6E33b\\src\\mahalanobis.jl:26\n",
      "┌ Warning: matrix is not symmetric/Hermitian\n",
      "└ @ Distances C:\\Users\\Ramos\\.julia\\packages\\Distances\\6E33b\\src\\mahalanobis.jl:26\n",
      "┌ Warning: matrix is not symmetric/Hermitian\n",
      "└ @ Distances C:\\Users\\Ramos\\.julia\\packages\\Distances\\6E33b\\src\\mahalanobis.jl:26\n",
      "┌ Warning: matrix is not symmetric/Hermitian\n",
      "└ @ Distances C:\\Users\\Ramos\\.julia\\packages\\Distances\\6E33b\\src\\mahalanobis.jl:26\n",
      "┌ Warning: matrix is not symmetric/Hermitian\n",
      "└ @ Distances C:\\Users\\Ramos\\.julia\\packages\\Distances\\6E33b\\src\\mahalanobis.jl:26\n",
      "┌ Warning: matrix is not symmetric/Hermitian\n",
      "└ @ Distances C:\\Users\\Ramos\\.julia\\packages\\Distances\\6E33b\\src\\mahalanobis.jl:26\n",
      "┌ Warning: matrix is not symmetric/Hermitian\n",
      "└ @ Distances C:\\Users\\Ramos\\.julia\\packages\\Distances\\6E33b\\src\\mahalanobis.jl:26\n",
      "┌ Warning: matrix is not symmetric/Hermitian\n",
      "└ @ Distances C:\\Users\\Ramos\\.julia\\packages\\Distances\\6E33b\\src\\mahalanobis.jl:26\n",
      "┌ Warning: matrix is not symmetric/Hermitian\n",
      "└ @ Distances C:\\Users\\Ramos\\.julia\\packages\\Distances\\6E33b\\src\\mahalanobis.jl:26\n",
      "┌ Warning: matrix is not symmetric/Hermitian\n",
      "└ @ Distances C:\\Users\\Ramos\\.julia\\packages\\Distances\\6E33b\\src\\mahalanobis.jl:26\n",
      "┌ Warning: matrix is not symmetric/Hermitian\n",
      "└ @ Distances C:\\Users\\Ramos\\.julia\\packages\\Distances\\6E33b\\src\\mahalanobis.jl:26\n",
      "┌ Warning: matrix is not symmetric/Hermitian\n",
      "└ @ Distances C:\\Users\\Ramos\\.julia\\packages\\Distances\\6E33b\\src\\mahalanobis.jl:26\n",
      "┌ Warning: matrix is not symmetric/Hermitian\n",
      "└ @ Distances C:\\Users\\Ramos\\.julia\\packages\\Distances\\6E33b\\src\\mahalanobis.jl:26\n",
      "┌ Warning: matrix is not symmetric/Hermitian\n",
      "└ @ Distances C:\\Users\\Ramos\\.julia\\packages\\Distances\\6E33b\\src\\mahalanobis.jl:26\n",
      "┌ Warning: matrix is not symmetric/Hermitian\n",
      "└ @ Distances C:\\Users\\Ramos\\.julia\\packages\\Distances\\6E33b\\src\\mahalanobis.jl:26\n",
      "┌ Warning: matrix is not symmetric/Hermitian\n",
      "└ @ Distances C:\\Users\\Ramos\\.julia\\packages\\Distances\\6E33b\\src\\mahalanobis.jl:26\n",
      "┌ Warning: matrix is not symmetric/Hermitian\n",
      "└ @ Distances C:\\Users\\Ramos\\.julia\\packages\\Distances\\6E33b\\src\\mahalanobis.jl:26\n",
      "┌ Warning: matrix is not symmetric/Hermitian\n",
      "└ @ Distances C:\\Users\\Ramos\\.julia\\packages\\Distances\\6E33b\\src\\mahalanobis.jl:26\n",
      "┌ Warning: matrix is not symmetric/Hermitian\n",
      "└ @ Distances C:\\Users\\Ramos\\.julia\\packages\\Distances\\6E33b\\src\\mahalanobis.jl:26\n",
      "┌ Warning: matrix is not symmetric/Hermitian\n",
      "└ @ Distances C:\\Users\\Ramos\\.julia\\packages\\Distances\\6E33b\\src\\mahalanobis.jl:26\n",
      "┌ Warning: matrix is not symmetric/Hermitian\n",
      "└ @ Distances C:\\Users\\Ramos\\.julia\\packages\\Distances\\6E33b\\src\\mahalanobis.jl:26\n",
      "┌ Warning: matrix is not symmetric/Hermitian\n",
      "└ @ Distances C:\\Users\\Ramos\\.julia\\packages\\Distances\\6E33b\\src\\mahalanobis.jl:26\n",
      "┌ Warning: matrix is not symmetric/Hermitian\n",
      "└ @ Distances C:\\Users\\Ramos\\.julia\\packages\\Distances\\6E33b\\src\\mahalanobis.jl:26\n",
      "┌ Warning: matrix is not symmetric/Hermitian\n",
      "└ @ Distances C:\\Users\\Ramos\\.julia\\packages\\Distances\\6E33b\\src\\mahalanobis.jl:26\n",
      "┌ Warning: matrix is not symmetric/Hermitian\n",
      "└ @ Distances C:\\Users\\Ramos\\.julia\\packages\\Distances\\6E33b\\src\\mahalanobis.jl:26\n",
      "┌ Warning: matrix is not symmetric/Hermitian\n",
      "└ @ Distances C:\\Users\\Ramos\\.julia\\packages\\Distances\\6E33b\\src\\mahalanobis.jl:26\n",
      "┌ Warning: matrix is not symmetric/Hermitian\n",
      "└ @ Distances C:\\Users\\Ramos\\.julia\\packages\\Distances\\6E33b\\src\\mahalanobis.jl:26\n",
      "┌ Warning: matrix is not symmetric/Hermitian\n",
      "└ @ Distances C:\\Users\\Ramos\\.julia\\packages\\Distances\\6E33b\\src\\mahalanobis.jl:26\n",
      "┌ Warning: matrix is not symmetric/Hermitian\n",
      "└ @ Distances C:\\Users\\Ramos\\.julia\\packages\\Distances\\6E33b\\src\\mahalanobis.jl:26\n",
      "┌ Warning: matrix is not symmetric/Hermitian\n",
      "└ @ Distances C:\\Users\\Ramos\\.julia\\packages\\Distances\\6E33b\\src\\mahalanobis.jl:26\n",
      "┌ Warning: matrix is not symmetric/Hermitian\n",
      "└ @ Distances C:\\Users\\Ramos\\.julia\\packages\\Distances\\6E33b\\src\\mahalanobis.jl:26\n",
      "┌ Warning: matrix is not symmetric/Hermitian\n",
      "└ @ Distances C:\\Users\\Ramos\\.julia\\packages\\Distances\\6E33b\\src\\mahalanobis.jl:26\n",
      "┌ Warning: matrix is not symmetric/Hermitian\n",
      "└ @ Distances C:\\Users\\Ramos\\.julia\\packages\\Distances\\6E33b\\src\\mahalanobis.jl:26\n",
      "┌ Warning: matrix is not symmetric/Hermitian\n",
      "└ @ Distances C:\\Users\\Ramos\\.julia\\packages\\Distances\\6E33b\\src\\mahalanobis.jl:26\n",
      "┌ Warning: matrix is not symmetric/Hermitian\n",
      "└ @ Distances C:\\Users\\Ramos\\.julia\\packages\\Distances\\6E33b\\src\\mahalanobis.jl:26\n",
      "┌ Warning: matrix is not symmetric/Hermitian\n",
      "└ @ Distances C:\\Users\\Ramos\\.julia\\packages\\Distances\\6E33b\\src\\mahalanobis.jl:26\n",
      "┌ Warning: matrix is not symmetric/Hermitian\n",
      "└ @ Distances C:\\Users\\Ramos\\.julia\\packages\\Distances\\6E33b\\src\\mahalanobis.jl:26\n",
      "┌ Warning: matrix is not symmetric/Hermitian\n",
      "└ @ Distances C:\\Users\\Ramos\\.julia\\packages\\Distances\\6E33b\\src\\mahalanobis.jl:26\n",
      "┌ Warning: matrix is not symmetric/Hermitian\n",
      "└ @ Distances C:\\Users\\Ramos\\.julia\\packages\\Distances\\6E33b\\src\\mahalanobis.jl:26\n",
      "┌ Warning: matrix is not symmetric/Hermitian\n",
      "└ @ Distances C:\\Users\\Ramos\\.julia\\packages\\Distances\\6E33b\\src\\mahalanobis.jl:26\n",
      "┌ Warning: matrix is not symmetric/Hermitian\n",
      "└ @ Distances C:\\Users\\Ramos\\.julia\\packages\\Distances\\6E33b\\src\\mahalanobis.jl:26\n",
      "┌ Warning: matrix is not symmetric/Hermitian\n",
      "└ @ Distances C:\\Users\\Ramos\\.julia\\packages\\Distances\\6E33b\\src\\mahalanobis.jl:26\n",
      "┌ Warning: matrix is not symmetric/Hermitian\n",
      "└ @ Distances C:\\Users\\Ramos\\.julia\\packages\\Distances\\6E33b\\src\\mahalanobis.jl:26\n",
      "┌ Warning: matrix is not symmetric/Hermitian\n",
      "└ @ Distances C:\\Users\\Ramos\\.julia\\packages\\Distances\\6E33b\\src\\mahalanobis.jl:26\n",
      "┌ Warning: matrix is not symmetric/Hermitian\n",
      "└ @ Distances C:\\Users\\Ramos\\.julia\\packages\\Distances\\6E33b\\src\\mahalanobis.jl:26\n",
      "┌ Warning: matrix is not symmetric/Hermitian\n",
      "└ @ Distances C:\\Users\\Ramos\\.julia\\packages\\Distances\\6E33b\\src\\mahalanobis.jl:26\n",
      "┌ Warning: matrix is not symmetric/Hermitian\n",
      "└ @ Distances C:\\Users\\Ramos\\.julia\\packages\\Distances\\6E33b\\src\\mahalanobis.jl:26\n",
      "┌ Warning: matrix is not symmetric/Hermitian\n",
      "└ @ Distances C:\\Users\\Ramos\\.julia\\packages\\Distances\\6E33b\\src\\mahalanobis.jl:26\n",
      "┌ Warning: matrix is not symmetric/Hermitian\n",
      "└ @ Distances C:\\Users\\Ramos\\.julia\\packages\\Distances\\6E33b\\src\\mahalanobis.jl:26\n",
      "┌ Warning: matrix is not symmetric/Hermitian\n",
      "└ @ Distances C:\\Users\\Ramos\\.julia\\packages\\Distances\\6E33b\\src\\mahalanobis.jl:26\n",
      "┌ Warning: matrix is not symmetric/Hermitian\n",
      "└ @ Distances C:\\Users\\Ramos\\.julia\\packages\\Distances\\6E33b\\src\\mahalanobis.jl:26\n",
      "┌ Warning: matrix is not symmetric/Hermitian\n",
      "└ @ Distances C:\\Users\\Ramos\\.julia\\packages\\Distances\\6E33b\\src\\mahalanobis.jl:26\n",
      "┌ Warning: matrix is not symmetric/Hermitian\n",
      "└ @ Distances C:\\Users\\Ramos\\.julia\\packages\\Distances\\6E33b\\src\\mahalanobis.jl:26\n",
      "┌ Warning: matrix is not symmetric/Hermitian\n",
      "└ @ Distances C:\\Users\\Ramos\\.julia\\packages\\Distances\\6E33b\\src\\mahalanobis.jl:26\n",
      "┌ Warning: matrix is not symmetric/Hermitian\n",
      "└ @ Distances C:\\Users\\Ramos\\.julia\\packages\\Distances\\6E33b\\src\\mahalanobis.jl:26\n",
      "┌ Warning: matrix is not symmetric/Hermitian\n",
      "└ @ Distances C:\\Users\\Ramos\\.julia\\packages\\Distances\\6E33b\\src\\mahalanobis.jl:26\n",
      "┌ Warning: matrix is not symmetric/Hermitian\n",
      "└ @ Distances C:\\Users\\Ramos\\.julia\\packages\\Distances\\6E33b\\src\\mahalanobis.jl:26\n",
      "┌ Warning: matrix is not symmetric/Hermitian\n",
      "└ @ Distances C:\\Users\\Ramos\\.julia\\packages\\Distances\\6E33b\\src\\mahalanobis.jl:26\n",
      "┌ Warning: matrix is not symmetric/Hermitian\n",
      "└ @ Distances C:\\Users\\Ramos\\.julia\\packages\\Distances\\6E33b\\src\\mahalanobis.jl:26\n",
      "┌ Warning: matrix is not symmetric/Hermitian\n",
      "└ @ Distances C:\\Users\\Ramos\\.julia\\packages\\Distances\\6E33b\\src\\mahalanobis.jl:26\n",
      "┌ Warning: matrix is not symmetric/Hermitian\n",
      "└ @ Distances C:\\Users\\Ramos\\.julia\\packages\\Distances\\6E33b\\src\\mahalanobis.jl:26\n",
      "┌ Warning: matrix is not symmetric/Hermitian\n",
      "└ @ Distances C:\\Users\\Ramos\\.julia\\packages\\Distances\\6E33b\\src\\mahalanobis.jl:26\n",
      "┌ Warning: matrix is not symmetric/Hermitian\n",
      "└ @ Distances C:\\Users\\Ramos\\.julia\\packages\\Distances\\6E33b\\src\\mahalanobis.jl:26\n",
      "┌ Warning: matrix is not symmetric/Hermitian\n",
      "└ @ Distances C:\\Users\\Ramos\\.julia\\packages\\Distances\\6E33b\\src\\mahalanobis.jl:26\n",
      "┌ Warning: matrix is not symmetric/Hermitian\n",
      "└ @ Distances C:\\Users\\Ramos\\.julia\\packages\\Distances\\6E33b\\src\\mahalanobis.jl:26\n",
      "┌ Warning: matrix is not symmetric/Hermitian\n",
      "└ @ Distances C:\\Users\\Ramos\\.julia\\packages\\Distances\\6E33b\\src\\mahalanobis.jl:26\n",
      "┌ Warning: matrix is not symmetric/Hermitian\n",
      "└ @ Distances C:\\Users\\Ramos\\.julia\\packages\\Distances\\6E33b\\src\\mahalanobis.jl:26\n",
      "┌ Warning: matrix is not symmetric/Hermitian\n",
      "└ @ Distances C:\\Users\\Ramos\\.julia\\packages\\Distances\\6E33b\\src\\mahalanobis.jl:26\n",
      "┌ Warning: matrix is not symmetric/Hermitian\n",
      "└ @ Distances C:\\Users\\Ramos\\.julia\\packages\\Distances\\6E33b\\src\\mahalanobis.jl:26\n",
      "┌ Warning: matrix is not symmetric/Hermitian\n",
      "└ @ Distances C:\\Users\\Ramos\\.julia\\packages\\Distances\\6E33b\\src\\mahalanobis.jl:26\n",
      "┌ Warning: matrix is not symmetric/Hermitian\n",
      "└ @ Distances C:\\Users\\Ramos\\.julia\\packages\\Distances\\6E33b\\src\\mahalanobis.jl:26\n",
      "┌ Warning: matrix is not symmetric/Hermitian\n",
      "└ @ Distances C:\\Users\\Ramos\\.julia\\packages\\Distances\\6E33b\\src\\mahalanobis.jl:26\n",
      "┌ Warning: matrix is not symmetric/Hermitian\n",
      "└ @ Distances C:\\Users\\Ramos\\.julia\\packages\\Distances\\6E33b\\src\\mahalanobis.jl:26\n",
      "┌ Warning: matrix is not symmetric/Hermitian\n",
      "└ @ Distances C:\\Users\\Ramos\\.julia\\packages\\Distances\\6E33b\\src\\mahalanobis.jl:26\n",
      "┌ Warning: matrix is not symmetric/Hermitian\n",
      "└ @ Distances C:\\Users\\Ramos\\.julia\\packages\\Distances\\6E33b\\src\\mahalanobis.jl:26\n",
      "┌ Warning: matrix is not symmetric/Hermitian\n",
      "└ @ Distances C:\\Users\\Ramos\\.julia\\packages\\Distances\\6E33b\\src\\mahalanobis.jl:26\n",
      "┌ Warning: matrix is not symmetric/Hermitian\n",
      "└ @ Distances C:\\Users\\Ramos\\.julia\\packages\\Distances\\6E33b\\src\\mahalanobis.jl:26\n",
      "┌ Warning: matrix is not symmetric/Hermitian\n",
      "└ @ Distances C:\\Users\\Ramos\\.julia\\packages\\Distances\\6E33b\\src\\mahalanobis.jl:26\n",
      "┌ Warning: matrix is not symmetric/Hermitian\n",
      "└ @ Distances C:\\Users\\Ramos\\.julia\\packages\\Distances\\6E33b\\src\\mahalanobis.jl:26\n",
      "┌ Warning: matrix is not symmetric/Hermitian\n",
      "└ @ Distances C:\\Users\\Ramos\\.julia\\packages\\Distances\\6E33b\\src\\mahalanobis.jl:26\n",
      "┌ Warning: matrix is not symmetric/Hermitian\n",
      "└ @ Distances C:\\Users\\Ramos\\.julia\\packages\\Distances\\6E33b\\src\\mahalanobis.jl:26\n",
      "┌ Warning: matrix is not symmetric/Hermitian\n",
      "└ @ Distances C:\\Users\\Ramos\\.julia\\packages\\Distances\\6E33b\\src\\mahalanobis.jl:26\n",
      "┌ Warning: matrix is not symmetric/Hermitian\n",
      "└ @ Distances C:\\Users\\Ramos\\.julia\\packages\\Distances\\6E33b\\src\\mahalanobis.jl:26\n",
      "┌ Warning: matrix is not symmetric/Hermitian\n",
      "└ @ Distances C:\\Users\\Ramos\\.julia\\packages\\Distances\\6E33b\\src\\mahalanobis.jl:26\n",
      "┌ Warning: matrix is not symmetric/Hermitian\n",
      "└ @ Distances C:\\Users\\Ramos\\.julia\\packages\\Distances\\6E33b\\src\\mahalanobis.jl:26\n",
      "┌ Warning: matrix is not symmetric/Hermitian\n",
      "└ @ Distances C:\\Users\\Ramos\\.julia\\packages\\Distances\\6E33b\\src\\mahalanobis.jl:26\n",
      "┌ Warning: matrix is not symmetric/Hermitian\n",
      "└ @ Distances C:\\Users\\Ramos\\.julia\\packages\\Distances\\6E33b\\src\\mahalanobis.jl:26\n",
      "┌ Warning: matrix is not symmetric/Hermitian\n",
      "└ @ Distances C:\\Users\\Ramos\\.julia\\packages\\Distances\\6E33b\\src\\mahalanobis.jl:26\n",
      "┌ Warning: matrix is not symmetric/Hermitian\n",
      "└ @ Distances C:\\Users\\Ramos\\.julia\\packages\\Distances\\6E33b\\src\\mahalanobis.jl:26\n",
      "┌ Warning: matrix is not symmetric/Hermitian\n",
      "└ @ Distances C:\\Users\\Ramos\\.julia\\packages\\Distances\\6E33b\\src\\mahalanobis.jl:26\n",
      "┌ Warning: matrix is not symmetric/Hermitian\n",
      "└ @ Distances C:\\Users\\Ramos\\.julia\\packages\\Distances\\6E33b\\src\\mahalanobis.jl:26\n",
      "┌ Warning: matrix is not symmetric/Hermitian\n",
      "└ @ Distances C:\\Users\\Ramos\\.julia\\packages\\Distances\\6E33b\\src\\mahalanobis.jl:26\n",
      "┌ Warning: matrix is not symmetric/Hermitian\n",
      "└ @ Distances C:\\Users\\Ramos\\.julia\\packages\\Distances\\6E33b\\src\\mahalanobis.jl:26\n",
      "┌ Warning: matrix is not symmetric/Hermitian\n",
      "└ @ Distances C:\\Users\\Ramos\\.julia\\packages\\Distances\\6E33b\\src\\mahalanobis.jl:26\n",
      "┌ Warning: matrix is not symmetric/Hermitian\n",
      "└ @ Distances C:\\Users\\Ramos\\.julia\\packages\\Distances\\6E33b\\src\\mahalanobis.jl:26\n",
      "┌ Warning: matrix is not symmetric/Hermitian\n",
      "└ @ Distances C:\\Users\\Ramos\\.julia\\packages\\Distances\\6E33b\\src\\mahalanobis.jl:26\n",
      "┌ Warning: matrix is not symmetric/Hermitian\n",
      "└ @ Distances C:\\Users\\Ramos\\.julia\\packages\\Distances\\6E33b\\src\\mahalanobis.jl:26\n",
      "┌ Warning: matrix is not symmetric/Hermitian\n",
      "└ @ Distances C:\\Users\\Ramos\\.julia\\packages\\Distances\\6E33b\\src\\mahalanobis.jl:26\n",
      "┌ Warning: matrix is not symmetric/Hermitian\n",
      "└ @ Distances C:\\Users\\Ramos\\.julia\\packages\\Distances\\6E33b\\src\\mahalanobis.jl:26\n",
      "┌ Warning: matrix is not symmetric/Hermitian\n",
      "└ @ Distances C:\\Users\\Ramos\\.julia\\packages\\Distances\\6E33b\\src\\mahalanobis.jl:26\n",
      "┌ Warning: matrix is not symmetric/Hermitian\n",
      "└ @ Distances C:\\Users\\Ramos\\.julia\\packages\\Distances\\6E33b\\src\\mahalanobis.jl:26\n",
      "┌ Warning: matrix is not symmetric/Hermitian\n",
      "└ @ Distances C:\\Users\\Ramos\\.julia\\packages\\Distances\\6E33b\\src\\mahalanobis.jl:26\n",
      "┌ Warning: matrix is not symmetric/Hermitian\n",
      "└ @ Distances C:\\Users\\Ramos\\.julia\\packages\\Distances\\6E33b\\src\\mahalanobis.jl:26\n",
      "┌ Warning: matrix is not symmetric/Hermitian\n",
      "└ @ Distances C:\\Users\\Ramos\\.julia\\packages\\Distances\\6E33b\\src\\mahalanobis.jl:26\n",
      "┌ Warning: matrix is not symmetric/Hermitian\n",
      "└ @ Distances C:\\Users\\Ramos\\.julia\\packages\\Distances\\6E33b\\src\\mahalanobis.jl:26\n",
      "┌ Warning: matrix is not symmetric/Hermitian\n",
      "└ @ Distances C:\\Users\\Ramos\\.julia\\packages\\Distances\\6E33b\\src\\mahalanobis.jl:26\n",
      "┌ Warning: matrix is not symmetric/Hermitian\n",
      "└ @ Distances C:\\Users\\Ramos\\.julia\\packages\\Distances\\6E33b\\src\\mahalanobis.jl:26\n",
      "┌ Warning: matrix is not symmetric/Hermitian\n",
      "└ @ Distances C:\\Users\\Ramos\\.julia\\packages\\Distances\\6E33b\\src\\mahalanobis.jl:26\n",
      "┌ Warning: matrix is not symmetric/Hermitian\n",
      "└ @ Distances C:\\Users\\Ramos\\.julia\\packages\\Distances\\6E33b\\src\\mahalanobis.jl:26\n",
      "┌ Warning: matrix is not symmetric/Hermitian\n",
      "└ @ Distances C:\\Users\\Ramos\\.julia\\packages\\Distances\\6E33b\\src\\mahalanobis.jl:26\n",
      "┌ Warning: matrix is not symmetric/Hermitian\n",
      "└ @ Distances C:\\Users\\Ramos\\.julia\\packages\\Distances\\6E33b\\src\\mahalanobis.jl:26\n",
      "┌ Warning: matrix is not symmetric/Hermitian\n",
      "└ @ Distances C:\\Users\\Ramos\\.julia\\packages\\Distances\\6E33b\\src\\mahalanobis.jl:26\n",
      "┌ Warning: matrix is not symmetric/Hermitian\n",
      "└ @ Distances C:\\Users\\Ramos\\.julia\\packages\\Distances\\6E33b\\src\\mahalanobis.jl:26\n",
      "┌ Warning: matrix is not symmetric/Hermitian\n",
      "└ @ Distances C:\\Users\\Ramos\\.julia\\packages\\Distances\\6E33b\\src\\mahalanobis.jl:26\n",
      "┌ Warning: matrix is not symmetric/Hermitian\n",
      "└ @ Distances C:\\Users\\Ramos\\.julia\\packages\\Distances\\6E33b\\src\\mahalanobis.jl:26\n",
      "┌ Warning: matrix is not symmetric/Hermitian\n",
      "└ @ Distances C:\\Users\\Ramos\\.julia\\packages\\Distances\\6E33b\\src\\mahalanobis.jl:26\n",
      "┌ Warning: matrix is not symmetric/Hermitian\n",
      "└ @ Distances C:\\Users\\Ramos\\.julia\\packages\\Distances\\6E33b\\src\\mahalanobis.jl:26\n",
      "┌ Warning: matrix is not symmetric/Hermitian\n",
      "└ @ Distances C:\\Users\\Ramos\\.julia\\packages\\Distances\\6E33b\\src\\mahalanobis.jl:26\n",
      "┌ Warning: matrix is not symmetric/Hermitian\n",
      "└ @ Distances C:\\Users\\Ramos\\.julia\\packages\\Distances\\6E33b\\src\\mahalanobis.jl:26\n",
      "┌ Warning: matrix is not symmetric/Hermitian\n",
      "└ @ Distances C:\\Users\\Ramos\\.julia\\packages\\Distances\\6E33b\\src\\mahalanobis.jl:26\n",
      "┌ Warning: matrix is not symmetric/Hermitian\n",
      "└ @ Distances C:\\Users\\Ramos\\.julia\\packages\\Distances\\6E33b\\src\\mahalanobis.jl:26\n",
      "┌ Warning: matrix is not symmetric/Hermitian\n",
      "└ @ Distances C:\\Users\\Ramos\\.julia\\packages\\Distances\\6E33b\\src\\mahalanobis.jl:26\n",
      "┌ Warning: matrix is not symmetric/Hermitian\n",
      "└ @ Distances C:\\Users\\Ramos\\.julia\\packages\\Distances\\6E33b\\src\\mahalanobis.jl:26\n",
      "┌ Warning: matrix is not symmetric/Hermitian\n",
      "└ @ Distances C:\\Users\\Ramos\\.julia\\packages\\Distances\\6E33b\\src\\mahalanobis.jl:26\n",
      "┌ Warning: matrix is not symmetric/Hermitian\n",
      "└ @ Distances C:\\Users\\Ramos\\.julia\\packages\\Distances\\6E33b\\src\\mahalanobis.jl:26\n",
      "┌ Warning: matrix is not symmetric/Hermitian\n",
      "└ @ Distances C:\\Users\\Ramos\\.julia\\packages\\Distances\\6E33b\\src\\mahalanobis.jl:26\n",
      "┌ Warning: matrix is not symmetric/Hermitian\n",
      "└ @ Distances C:\\Users\\Ramos\\.julia\\packages\\Distances\\6E33b\\src\\mahalanobis.jl:26\n",
      "┌ Warning: matrix is not symmetric/Hermitian\n",
      "└ @ Distances C:\\Users\\Ramos\\.julia\\packages\\Distances\\6E33b\\src\\mahalanobis.jl:26\n",
      "┌ Warning: matrix is not symmetric/Hermitian\n",
      "└ @ Distances C:\\Users\\Ramos\\.julia\\packages\\Distances\\6E33b\\src\\mahalanobis.jl:26\n",
      "┌ Warning: matrix is not symmetric/Hermitian\n",
      "└ @ Distances C:\\Users\\Ramos\\.julia\\packages\\Distances\\6E33b\\src\\mahalanobis.jl:26\n",
      "┌ Warning: matrix is not symmetric/Hermitian\n",
      "└ @ Distances C:\\Users\\Ramos\\.julia\\packages\\Distances\\6E33b\\src\\mahalanobis.jl:26\n",
      "┌ Warning: matrix is not symmetric/Hermitian\n",
      "└ @ Distances C:\\Users\\Ramos\\.julia\\packages\\Distances\\6E33b\\src\\mahalanobis.jl:26\n",
      "┌ Warning: matrix is not symmetric/Hermitian\n",
      "└ @ Distances C:\\Users\\Ramos\\.julia\\packages\\Distances\\6E33b\\src\\mahalanobis.jl:26\n",
      "┌ Warning: matrix is not symmetric/Hermitian\n",
      "└ @ Distances C:\\Users\\Ramos\\.julia\\packages\\Distances\\6E33b\\src\\mahalanobis.jl:26\n",
      "┌ Warning: matrix is not symmetric/Hermitian\n",
      "└ @ Distances C:\\Users\\Ramos\\.julia\\packages\\Distances\\6E33b\\src\\mahalanobis.jl:26\n",
      "┌ Warning: matrix is not symmetric/Hermitian\n",
      "└ @ Distances C:\\Users\\Ramos\\.julia\\packages\\Distances\\6E33b\\src\\mahalanobis.jl:26\n",
      "┌ Warning: matrix is not symmetric/Hermitian\n",
      "└ @ Distances C:\\Users\\Ramos\\.julia\\packages\\Distances\\6E33b\\src\\mahalanobis.jl:26\n",
      "┌ Warning: matrix is not symmetric/Hermitian\n",
      "└ @ Distances C:\\Users\\Ramos\\.julia\\packages\\Distances\\6E33b\\src\\mahalanobis.jl:26\n",
      "┌ Warning: matrix is not symmetric/Hermitian\n",
      "└ @ Distances C:\\Users\\Ramos\\.julia\\packages\\Distances\\6E33b\\src\\mahalanobis.jl:26\n",
      "┌ Warning: matrix is not symmetric/Hermitian\n",
      "└ @ Distances C:\\Users\\Ramos\\.julia\\packages\\Distances\\6E33b\\src\\mahalanobis.jl:26\n",
      "┌ Warning: matrix is not symmetric/Hermitian\n",
      "└ @ Distances C:\\Users\\Ramos\\.julia\\packages\\Distances\\6E33b\\src\\mahalanobis.jl:26\n",
      "┌ Warning: matrix is not symmetric/Hermitian\n",
      "└ @ Distances C:\\Users\\Ramos\\.julia\\packages\\Distances\\6E33b\\src\\mahalanobis.jl:26\n",
      "┌ Warning: matrix is not symmetric/Hermitian\n",
      "└ @ Distances C:\\Users\\Ramos\\.julia\\packages\\Distances\\6E33b\\src\\mahalanobis.jl:26\n",
      "┌ Warning: matrix is not symmetric/Hermitian\n",
      "└ @ Distances C:\\Users\\Ramos\\.julia\\packages\\Distances\\6E33b\\src\\mahalanobis.jl:26\n",
      "┌ Warning: matrix is not symmetric/Hermitian\n",
      "└ @ Distances C:\\Users\\Ramos\\.julia\\packages\\Distances\\6E33b\\src\\mahalanobis.jl:26\n",
      "┌ Warning: matrix is not symmetric/Hermitian\n",
      "└ @ Distances C:\\Users\\Ramos\\.julia\\packages\\Distances\\6E33b\\src\\mahalanobis.jl:26\n",
      "┌ Warning: matrix is not symmetric/Hermitian\n",
      "└ @ Distances C:\\Users\\Ramos\\.julia\\packages\\Distances\\6E33b\\src\\mahalanobis.jl:26\n",
      "┌ Warning: matrix is not symmetric/Hermitian\n",
      "└ @ Distances C:\\Users\\Ramos\\.julia\\packages\\Distances\\6E33b\\src\\mahalanobis.jl:26\n",
      "┌ Warning: matrix is not symmetric/Hermitian\n",
      "└ @ Distances C:\\Users\\Ramos\\.julia\\packages\\Distances\\6E33b\\src\\mahalanobis.jl:26\n",
      "┌ Warning: matrix is not symmetric/Hermitian\n",
      "└ @ Distances C:\\Users\\Ramos\\.julia\\packages\\Distances\\6E33b\\src\\mahalanobis.jl:26\n",
      "┌ Warning: matrix is not symmetric/Hermitian\n",
      "└ @ Distances C:\\Users\\Ramos\\.julia\\packages\\Distances\\6E33b\\src\\mahalanobis.jl:26\n",
      "┌ Warning: matrix is not symmetric/Hermitian\n",
      "└ @ Distances C:\\Users\\Ramos\\.julia\\packages\\Distances\\6E33b\\src\\mahalanobis.jl:26\n",
      "┌ Warning: matrix is not symmetric/Hermitian\n",
      "└ @ Distances C:\\Users\\Ramos\\.julia\\packages\\Distances\\6E33b\\src\\mahalanobis.jl:26\n",
      "┌ Warning: matrix is not symmetric/Hermitian\n",
      "└ @ Distances C:\\Users\\Ramos\\.julia\\packages\\Distances\\6E33b\\src\\mahalanobis.jl:26\n",
      "┌ Warning: matrix is not symmetric/Hermitian\n",
      "└ @ Distances C:\\Users\\Ramos\\.julia\\packages\\Distances\\6E33b\\src\\mahalanobis.jl:26\n",
      "┌ Warning: matrix is not symmetric/Hermitian\n",
      "└ @ Distances C:\\Users\\Ramos\\.julia\\packages\\Distances\\6E33b\\src\\mahalanobis.jl:26\n",
      "┌ Warning: matrix is not symmetric/Hermitian\n",
      "└ @ Distances C:\\Users\\Ramos\\.julia\\packages\\Distances\\6E33b\\src\\mahalanobis.jl:26\n",
      "┌ Warning: matrix is not symmetric/Hermitian\n",
      "└ @ Distances C:\\Users\\Ramos\\.julia\\packages\\Distances\\6E33b\\src\\mahalanobis.jl:26\n",
      "┌ Warning: matrix is not symmetric/Hermitian\n",
      "└ @ Distances C:\\Users\\Ramos\\.julia\\packages\\Distances\\6E33b\\src\\mahalanobis.jl:26\n"
     ]
    }
   ],
   "source": [
    "using Distances\n",
    "\n",
    "meanDS=mean(DSMat, dims=1);\n",
    "meanDS=vec(meanDS);\n",
    "\n",
    "#From the chi-squared distribution of Mahalanobis distance from mean\n",
    "Q=inv(cov(DSMat,corrected=true, dims=1));\n",
    "DSout=dataSonar[:,:];\n",
    "\n",
    "for i in 1:208;\n",
    "    rowDS=DSMat[i,:];\n",
    "    m=mahalanobis(rowDS, meanDS, Q)^2;\n",
    "   if m>=89.59;\n",
    "    delete!(DSout, i);\n",
    "    end;\n",
    "end;\n",
    "\n",
    "MDSo=Matrix(DSout); #matrix of sonar's data without outliers\n",
    "MDSoX=MDSo[:,1:60];"
   ]
  },
  {
   "cell_type": "markdown",
   "id": "c6ea1775",
   "metadata": {},
   "source": [
    "# Partitioning the data and 5-fold Cross Validation."
   ]
  },
  {
   "cell_type": "markdown",
   "id": "24d01c5a",
   "metadata": {},
   "source": [
    "We'll split our data set taking $80\\%$ for training our model and $20\\%$ for testing our algorithms. Since we are not dealing with a lot of data (166 examples), and the amount of input features is 60, taking less percentage for the training set wouldn't be very convenient or informative for the learning algorithms. Furthermore, we'll perform 5-fold cross validation on our training set for the selection of hyperparameters, in order to increase the reliability of the testing f hyperparameters carried out in the validatition sets.\n",
    "\n",
    "This means that our training set will be partitioned into 5 pairwise disjoint subsets, and for each subset we'll train our models with an array of hyperparameters with its complement and then use the subset as a validatition set, to evaluate performance of the available hyperparameters and choose the best based on the F1-score criterion."
   ]
  },
  {
   "cell_type": "code",
   "execution_count": 258,
   "id": "2e12b33c",
   "metadata": {},
   "outputs": [],
   "source": [
    "#Partitioning of data\n",
    "using StatsBase\n",
    "\n",
    "n = length(MDSo[:,1]);\n",
    "\n",
    "ptrain = 0.8;  # % training data\n",
    "ntrain = convert(Integer, floor(ptrain*n));   # No. of examples in training data\n",
    "trainps = StatsBase.sample(1:n, ntrain, replace = false);\n",
    "Mtrain = MDSo[trainps,:]; #training data\n",
    "\n",
    "\n",
    "notrain=setdiff(1:n, trainps);\n",
    "ntest=n-length(trainps)\n",
    "testps= StatsBase.sample(notrain, ntest, replace = false);\n",
    "Mtest = MDSo[testps, :]; #testing data\n",
    "\n",
    "#5-Fold Cross validatition partitioning of training data\n",
    "\n",
    "val1ps=StatsBase.sample(trainps, 26, replace = false); \n",
    "avail=setdiff(trainps, val1ps)\n",
    "val2ps=StatsBase.sample(avail, 26, replace = false);\n",
    "CVhsets=[MDSo[val1ps,:],MDSo[val2ps,:]];\n",
    "CVhind=[val1ps, val2ps];\n",
    "avail=setdiff(avail, val2ps);\n",
    "\n",
    "\n",
    "for i in 3:5\n",
    "    valips=StatsBase.sample(avail, 27, replace = false);\n",
    "    push!(CVhsets, MDSo[valips,:]);\n",
    "    push!(CVhind, valips);\n",
    "    avail=setdiff(avail,valips);\n",
    "end"
   ]
  },
  {
   "cell_type": "code",
   "execution_count": 259,
   "id": "b877459c",
   "metadata": {},
   "outputs": [
    {
     "name": "stdout",
     "output_type": "stream",
     "text": [
      "Mines in training set: 69\n",
      "Rocks in training set: 64\n"
     ]
    }
   ],
   "source": [
    "nlabeltrain = countmap(Mtrain[:,61])\n",
    "println(\"Mines in training set: \", nlabeltrain[1])\n",
    "println(\"Rocks in training set: \", nlabeltrain[0])"
   ]
  },
  {
   "cell_type": "code",
   "execution_count": 260,
   "id": "452fe8ef",
   "metadata": {},
   "outputs": [
    {
     "name": "stdout",
     "output_type": "stream",
     "text": [
      "Mines in test: 17\n",
      "Rocks in test: 17\n"
     ]
    }
   ],
   "source": [
    "nlabeltest = countmap(Mtest[:,61])\n",
    "println(\"Mines in test: \", nlabeltest[1])\n",
    "println(\"Rocks in test: \", nlabeltest[0])"
   ]
  },
  {
   "cell_type": "markdown",
   "id": "ac14df97",
   "metadata": {},
   "source": [
    "Let's examine the imbalance of the data"
   ]
  },
  {
   "cell_type": "code",
   "execution_count": 261,
   "id": "d1706a87",
   "metadata": {},
   "outputs": [
    {
     "name": "stdout",
     "output_type": "stream",
     "text": [
      "Percentage of majorist class: 53.365\n",
      "Percentage of minorst class: 46.635\n"
     ]
    }
   ],
   "source": [
    "mine=dataSonar[dataSonar[:,61].==1, :];\n",
    "rock=dataSonar[dataSonar[:,61].==0, :];\n",
    "println(\"Percentage of majorist class: \", round(max(nrow(mine),nrow(rock))/2.08, digits= 3))\n",
    "println(\"Percentage of minorst class: \", round(min(nrow(mine),nrow(rock))/2.08, digits=3))"
   ]
  },
  {
   "cell_type": "markdown",
   "id": "28d2a1ed",
   "metadata": {},
   "source": [
    "Since it's very slightly imbalanced, we won't implement any methods of resampling of the data apart from Croos Validation, such as oversampling or undersampling. "
   ]
  },
  {
   "cell_type": "markdown",
   "id": "1c64b93b",
   "metadata": {},
   "source": [
    "Now I'll chose F1 as metric of performance of our algorithms, since there's no high class imbalance and we'd like to also penalise if we get too many false positives or too many false negatives even if accuracy is still high. Now that we have all of our $5$ partitions of validation and training sets, we can start choosing our hyperparameters."
   ]
  },
  {
   "cell_type": "markdown",
   "id": "6783d63a",
   "metadata": {},
   "source": [
    "# Choosing Hyperparameters"
   ]
  },
  {
   "cell_type": "markdown",
   "id": "1bee276b",
   "metadata": {},
   "source": [
    "For each method, we'll obtain a model for each number in a set of hyperparameters, and then with the validation set we'll choose the best hyperparameter for each model.\n",
    "\n",
    "Now, we'll first perform a PCA for the training sets before running each learning algorithm with the range of distinct hyperparameters, and then apply the transformation obtained with each PCA to the correspondent validation set before testing the models to choose the best hyperparameter."
   ]
  },
  {
   "cell_type": "code",
   "execution_count": 264,
   "id": "5f2ed065",
   "metadata": {},
   "outputs": [
    {
     "name": "stdout",
     "output_type": "stream",
     "text": [
      "\n",
      "\n",
      "\n",
      "\n",
      "\n"
     ]
    }
   ],
   "source": [
    "using MultivariateStats\n",
    "\n",
    "Cross_val_part=[]\n",
    "PCAtrain=[];\n",
    "PCAval=[];\n",
    "for i in 1:5;\n",
    "    #println(trainps, CVhind[i]);\n",
    "    CVtraini=setdiff(trainps,CVhind[i]) #Cross Validation training indixes when taking the i-th subset;\n",
    "    PCAm=MultivariateStats.fit(PCA, MDSo[CVtraini,1:60]', maxoutdim=8);;\n",
    "    \n",
    "    PCAt=MultivariateStats.predict(PCAm, MDSo[CVtraini,1:60]')';\n",
    "    PCAv=MultivariateStats.predict(PCAm,MDSo[CVhind[i],1:60]')';\n",
    "    push!(PCAtrain, PCAt);\n",
    "    push!(PCAval, PCAv);\n",
    "    PCAt=hcat(PCAt,MDSo[CVtraini,61])\n",
    "    println()\n",
    "    PCAv=hcat(PCAv, MDSo[CVhind[i], 61])    \n",
    "    push!(Cross_val_part,[PCAt,PCAv])\n",
    "    \n",
    "end\n"
   ]
  },
  {
   "cell_type": "markdown",
   "id": "bdf890a7",
   "metadata": {},
   "source": [
    "Now we can start the selecting process of our hyperparameters, applying 5-fold Cross validation."
   ]
  },
  {
   "cell_type": "markdown",
   "id": "03d08342",
   "metadata": {},
   "source": [
    "## Linear regression "
   ]
  },
  {
   "cell_type": "code",
   "execution_count": 265,
   "id": "06f30679",
   "metadata": {},
   "outputs": [
    {
     "name": "stderr",
     "output_type": "stream",
     "text": [
      "WARNING: redefinition of constant LinearRegression. This may fail, cause incorrect answers, or produce other errors.\n"
     ]
    },
    {
     "data": {
      "text/plain": [
       "Dict{Any, Any} with 5 entries:\n",
       "  \"copy_X\"        => true\n",
       "  \"fit_intercept\" => true\n",
       "  \"n_jobs\"        => nothing\n",
       "  \"normalize\"     => \"deprecated\"\n",
       "  \"positive\"      => false"
      ]
     },
     "execution_count": 265,
     "metadata": {},
     "output_type": "execute_result"
    }
   ],
   "source": [
    "using ScikitLearn\n",
    "@sk_import linear_model: LinearRegression;\n",
    "\n",
    "linregm = LinearRegression() # Inicializamos el método\n",
    "param=linregm.get_params() #observamos los hiperparámetros\n"
   ]
  },
  {
   "cell_type": "markdown",
   "id": "fddadeb6",
   "metadata": {},
   "source": [
    "Since this method doesn't have usual hyperparameters to tune, we'll skip this step with this one."
   ]
  },
  {
   "cell_type": "markdown",
   "id": "6ca65baf",
   "metadata": {},
   "source": [
    "## Logistic regression "
   ]
  },
  {
   "cell_type": "code",
   "execution_count": 266,
   "id": "9f65ea7e",
   "metadata": {},
   "outputs": [
    {
     "name": "stderr",
     "output_type": "stream",
     "text": [
      "WARNING: redefinition of constant LogisticRegression. This may fail, cause incorrect answers, or produce other errors.\n"
     ]
    },
    {
     "data": {
      "text/plain": [
       "Dict{Any, Any} with 15 entries:\n",
       "  \"penalty\"           => \"l2\"\n",
       "  \"fit_intercept\"     => true\n",
       "  \"C\"                 => 1.0\n",
       "  \"multi_class\"       => \"auto\"\n",
       "  \"dual\"              => false\n",
       "  \"n_jobs\"            => nothing\n",
       "  \"max_iter\"          => 100\n",
       "  \"random_state\"      => nothing\n",
       "  \"l1_ratio\"          => nothing\n",
       "  \"solver\"            => \"lbfgs\"\n",
       "  \"class_weight\"      => nothing\n",
       "  \"tol\"               => 0.0001\n",
       "  \"verbose\"           => 0\n",
       "  \"warm_start\"        => false\n",
       "  \"intercept_scaling\" => 1"
      ]
     },
     "execution_count": 266,
     "metadata": {},
     "output_type": "execute_result"
    }
   ],
   "source": [
    "using ScikitLearn\n",
    "@sk_import linear_model: LogisticRegression;\n",
    "\n",
    "plg=LogisticRegression().get_params() #observamos los hiperparámetros"
   ]
  },
  {
   "cell_type": "markdown",
   "id": "b93f5156",
   "metadata": {},
   "source": [
    "We'll settle a grid for the parameters \"C\" and \"penalty\", and look for the ones for which the model gets a better F1- score, of course using the features provided by the PCA applied to the training sets."
   ]
  },
  {
   "cell_type": "code",
   "execution_count": 267,
   "id": "f2a1093a",
   "metadata": {},
   "outputs": [
    {
     "name": "stdout",
     "output_type": "stream",
     "text": [
      "Any[0.7027741935483871, 1.0, \"l2\"]\n",
      "Max average f1 score: 0.7027741935483871 \n",
      " Given by parameters C=1.0 and penalty=l2\n"
     ]
    },
    {
     "name": "stderr",
     "output_type": "stream",
     "text": [
      "C:\\Users\\Ramos\\.julia\\conda\\3\\lib\\site-packages\\sklearn\\linear_model\\_logistic.py:1483: UserWarning: Setting penalty='none' will ignore the C and l1_ratio parameters\r\n",
      "  warnings.warn(\r\n",
      "C:\\Users\\Ramos\\.julia\\conda\\3\\lib\\site-packages\\sklearn\\linear_model\\_logistic.py:1483: UserWarning: Setting penalty='none' will ignore the C and l1_ratio parameters\r\n",
      "  warnings.warn(\r\n",
      "C:\\Users\\Ramos\\.julia\\conda\\3\\lib\\site-packages\\sklearn\\linear_model\\_logistic.py:1483: UserWarning: Setting penalty='none' will ignore the C and l1_ratio parameters\r\n",
      "  warnings.warn(\r\n",
      "C:\\Users\\Ramos\\.julia\\conda\\3\\lib\\site-packages\\sklearn\\linear_model\\_logistic.py:1483: UserWarning: Setting penalty='none' will ignore the C and l1_ratio parameters\r\n",
      "  warnings.warn(\r\n",
      "C:\\Users\\Ramos\\.julia\\conda\\3\\lib\\site-packages\\sklearn\\linear_model\\_logistic.py:1483: UserWarning: Setting penalty='none' will ignore the C and l1_ratio parameters\r\n",
      "  warnings.warn(\r\n",
      "C:\\Users\\Ramos\\.julia\\conda\\3\\lib\\site-packages\\sklearn\\linear_model\\_logistic.py:1483: UserWarning: Setting penalty='none' will ignore the C and l1_ratio parameters\r\n",
      "  warnings.warn(\r\n",
      "C:\\Users\\Ramos\\.julia\\conda\\3\\lib\\site-packages\\sklearn\\linear_model\\_logistic.py:1483: UserWarning: Setting penalty='none' will ignore the C and l1_ratio parameters\r\n",
      "  warnings.warn(\r\n",
      "C:\\Users\\Ramos\\.julia\\conda\\3\\lib\\site-packages\\sklearn\\linear_model\\_logistic.py:1483: UserWarning: Setting penalty='none' will ignore the C and l1_ratio parameters\r\n",
      "  warnings.warn(\r\n",
      "C:\\Users\\Ramos\\.julia\\conda\\3\\lib\\site-packages\\sklearn\\linear_model\\_logistic.py:1483: UserWarning: Setting penalty='none' will ignore the C and l1_ratio parameters\r\n",
      "  warnings.warn(\r\n",
      "C:\\Users\\Ramos\\.julia\\conda\\3\\lib\\site-packages\\sklearn\\linear_model\\_logistic.py:1483: UserWarning: Setting penalty='none' will ignore the C and l1_ratio parameters\r\n",
      "  warnings.warn(\r\n",
      "C:\\Users\\Ramos\\.julia\\conda\\3\\lib\\site-packages\\sklearn\\linear_model\\_logistic.py:1483: UserWarning: Setting penalty='none' will ignore the C and l1_ratio parameters\r\n",
      "  warnings.warn(\r\n",
      "C:\\Users\\Ramos\\.julia\\conda\\3\\lib\\site-packages\\sklearn\\linear_model\\_logistic.py:1483: UserWarning: Setting penalty='none' will ignore the C and l1_ratio parameters\r\n",
      "  warnings.warn(\r\n",
      "C:\\Users\\Ramos\\.julia\\conda\\3\\lib\\site-packages\\sklearn\\linear_model\\_logistic.py:1483: UserWarning: Setting penalty='none' will ignore the C and l1_ratio parameters\r\n",
      "  warnings.warn(\r\n",
      "C:\\Users\\Ramos\\.julia\\conda\\3\\lib\\site-packages\\sklearn\\linear_model\\_logistic.py:1483: UserWarning: Setting penalty='none' will ignore the C and l1_ratio parameters\r\n",
      "  warnings.warn(\r\n",
      "C:\\Users\\Ramos\\.julia\\conda\\3\\lib\\site-packages\\sklearn\\linear_model\\_logistic.py:1483: UserWarning: Setting penalty='none' will ignore the C and l1_ratio parameters\r\n",
      "  warnings.warn(\r\n",
      "C:\\Users\\Ramos\\.julia\\conda\\3\\lib\\site-packages\\sklearn\\linear_model\\_logistic.py:1483: UserWarning: Setting penalty='none' will ignore the C and l1_ratio parameters\r\n",
      "  warnings.warn(\r\n",
      "C:\\Users\\Ramos\\.julia\\conda\\3\\lib\\site-packages\\sklearn\\linear_model\\_logistic.py:1483: UserWarning: Setting penalty='none' will ignore the C and l1_ratio parameters\r\n",
      "  warnings.warn(\r\n",
      "C:\\Users\\Ramos\\.julia\\conda\\3\\lib\\site-packages\\sklearn\\linear_model\\_logistic.py:1483: UserWarning: Setting penalty='none' will ignore the C and l1_ratio parameters\r\n",
      "  warnings.warn(\r\n",
      "C:\\Users\\Ramos\\.julia\\conda\\3\\lib\\site-packages\\sklearn\\linear_model\\_logistic.py:1483: UserWarning: Setting penalty='none' will ignore the C and l1_ratio parameters\r\n",
      "  warnings.warn(\r\n",
      "C:\\Users\\Ramos\\.julia\\conda\\3\\lib\\site-packages\\sklearn\\linear_model\\_logistic.py:1483: UserWarning: Setting penalty='none' will ignore the C and l1_ratio parameters\r\n",
      "  warnings.warn(\r\n"
     ]
    }
   ],
   "source": [
    "using EvalMetrics\n",
    "\n",
    "c_values = [100, 10, 1.0, 0.1, 0.01];\n",
    "penal_v=[\"l2\", \"none\"];\n",
    "\n",
    "maxlr=[0];\n",
    "\n",
    "for j in 1:length(penal_v)\n",
    "   for i in 1:length(c_values);\n",
    "        \n",
    "        f1_avscore=0;\n",
    "      \n",
    "        for k in 1:5; \n",
    "         logregm=LogisticRegression(penalty=penal_v[j], C=c_values[i]);\n",
    "\n",
    "         ScikitLearn.fit!(logregm,Cross_val_part[k][1][:,1:8],Cross_val_part[k][1][:,9]);\n",
    "            \n",
    "    \n",
    "         pred=ScikitLearn.predict(logregm,(Cross_val_part[k][2])[:,1:8]);\n",
    "         pred=round.(Int, pred);   \n",
    "        \n",
    "        real=round.(Int, Cross_val_part[k][2][:,9]);\n",
    "        precision=EvalMetrics.precision(pred,real);\n",
    "        recall=EvalMetrics.recall(pred,real);\n",
    "        f1_score=2*precision*recall/(precision+recall)\n",
    "        f1_avscore=f1_avscore+f1_score/length(PCAtrain)\n",
    "        \n",
    "        end\n",
    "    \n",
    "        if f1_avscore>maxlr[1];\n",
    "                maxlr=[f1_avscore, c_values[i] , penal_v[j]];\n",
    "        end\n",
    "        \n",
    "    end\n",
    "end\n",
    "println(maxlr)\n",
    "\n",
    "println(\"Max average f1 score: $(maxlr[1]) \\n Given by parameters C=$(maxlr[2]) and penalty=$(maxlr[3])\")"
   ]
  },
  {
   "cell_type": "markdown",
   "id": "e094927a",
   "metadata": {},
   "source": [
    "## Support Vector Machine:"
   ]
  },
  {
   "cell_type": "code",
   "execution_count": 268,
   "id": "e3ca507c",
   "metadata": {},
   "outputs": [
    {
     "name": "stderr",
     "output_type": "stream",
     "text": [
      "WARNING: redefinition of constant SVC. This may fail, cause incorrect answers, or produce other errors.\n"
     ]
    },
    {
     "data": {
      "text/plain": [
       "Dict{Any, Any} with 15 entries:\n",
       "  \"C\"                       => 1.0\n",
       "  \"shrinking\"               => true\n",
       "  \"decision_function_shape\" => \"ovr\"\n",
       "  \"max_iter\"                => -1\n",
       "  \"random_state\"            => nothing\n",
       "  \"class_weight\"            => nothing\n",
       "  \"tol\"                     => 0.001\n",
       "  \"verbose\"                 => false\n",
       "  \"coef0\"                   => 0.0\n",
       "  \"kernel\"                  => \"rbf\"\n",
       "  \"probability\"             => false\n",
       "  \"cache_size\"              => 200\n",
       "  \"gamma\"                   => \"scale\"\n",
       "  \"degree\"                  => 3\n",
       "  \"break_ties\"              => false"
      ]
     },
     "execution_count": 268,
     "metadata": {},
     "output_type": "execute_result"
    }
   ],
   "source": [
    "using ScikitLearn;\n",
    "\n",
    "@sk_import svm: SVC\n",
    "\n",
    "psvm=SVC().get_params() #observe hyperparameters\n"
   ]
  },
  {
   "cell_type": "markdown",
   "id": "a9bc34e9",
   "metadata": {},
   "source": [
    "The hyperparameters we'll choose using our 5-cross validatition technique for support vector machine are \"kernel\", \"C\", and  \"gamma\". "
   ]
  },
  {
   "cell_type": "code",
   "execution_count": 269,
   "id": "71c5043f",
   "metadata": {},
   "outputs": [
    {
     "name": "stdout",
     "output_type": "stream",
     "text": [
      "Any[0.7200473801560758, 10, \"linear\", 0.001]\n",
      "Max average f1 score: 0.7200473801560758 \n",
      " Given by parameters C=10, kernel=linear, gamma=0.001\n"
     ]
    }
   ],
   "source": [
    "\n",
    "c_values=[1, 10, 100, 1000];\n",
    "kern=[\"linear\", \"poly\", \"rbf\"];\n",
    "gamma=[0.001, 0.0001]\n",
    "maxsvm=[0];\n",
    "\n",
    "\n",
    "for i in 1:length(c_values);\n",
    "   for j in 1:length(kern);        \n",
    "        for t in 1:length(gamma);\n",
    "        \n",
    "        f1_avscore=0;\n",
    "      \n",
    "        for k in 1:5; \n",
    "            \n",
    "\n",
    "         svmm=SVC(C=c_values[i], kernel=kern[j], gamma=gamma[t]);\n",
    "\n",
    "         ScikitLearn.fit!(svmm,Cross_val_part[k][1][:,1:8],Cross_val_part[k][1][:,9]);\n",
    "            \n",
    "    \n",
    "         pred=ScikitLearn.predict(svmm,(Cross_val_part[k][2])[:,1:8]);\n",
    "         pred=round.(Int, pred);   \n",
    "        \n",
    "        real=round.(Int, Cross_val_part[k][2][:,9]);\n",
    "        precision=EvalMetrics.precision(pred,real);\n",
    "        recall=EvalMetrics.recall(pred,real);\n",
    "        f1_score=2*precision*recall/(precision+recall)\n",
    "        f1_avscore=f1_avscore+f1_score/length(PCAtrain)\n",
    "        \n",
    "        end\n",
    "    \n",
    "        if f1_avscore>maxsvm[1];\n",
    "                maxsvm=[f1_avscore, c_values[i] , kern[j], gamma[t]];\n",
    "        end\n",
    "        end\n",
    "    end\n",
    "end\n",
    "println(maxsvm)\n",
    "\n",
    "println(\"Max average f1 score: $(maxsvm[1]) \\n Given by parameters C=$(maxsvm[2]), kernel=$(maxsvm[3]), gamma=$(maxsvm[4])\")"
   ]
  },
  {
   "cell_type": "markdown",
   "id": "cb161bee",
   "metadata": {},
   "source": [
    "From which we choose the parameters C=1, kernel=\"linear\", and gamma= 0.01."
   ]
  },
  {
   "cell_type": "markdown",
   "id": "fb0aaf8c",
   "metadata": {},
   "source": [
    "## K-nearest neighbors"
   ]
  },
  {
   "cell_type": "code",
   "execution_count": 270,
   "id": "d381326e",
   "metadata": {},
   "outputs": [
    {
     "name": "stderr",
     "output_type": "stream",
     "text": [
      "WARNING: redefinition of constant KNeighborsClassifier. This may fail, cause incorrect answers, or produce other errors.\n"
     ]
    },
    {
     "data": {
      "text/plain": [
       "Dict{Any, Any} with 8 entries:\n",
       "  \"leaf_size\"     => 30\n",
       "  \"n_jobs\"        => nothing\n",
       "  \"n_neighbors\"   => 5\n",
       "  \"metric\"        => \"minkowski\"\n",
       "  \"weights\"       => \"uniform\"\n",
       "  \"algorithm\"     => \"auto\"\n",
       "  \"metric_params\" => nothing\n",
       "  \"p\"             => 2"
      ]
     },
     "execution_count": 270,
     "metadata": {},
     "output_type": "execute_result"
    }
   ],
   "source": [
    "@sk_import neighbors: KNeighborsClassifier\n",
    "\n",
    "pknn=KNeighborsClassifier().get_params() #observe hyperparameters"
   ]
  },
  {
   "cell_type": "markdown",
   "id": "50726d9d",
   "metadata": {},
   "source": [
    "For this method we'll select from a range of values for hyperparameters \"n-neighbors\", \"weights\", and \"metric\"."
   ]
  },
  {
   "cell_type": "code",
   "execution_count": 271,
   "id": "eefa23bc",
   "metadata": {},
   "outputs": [
    {
     "name": "stdout",
     "output_type": "stream",
     "text": [
      "Any[0.6704725175006482, \"gini\"]\n",
      "Max average f1 score: 0.774840549649987 \n",
      "Given by parameters n-neighbors=15, weights=distance, metrics=minkowski\n"
     ]
    }
   ],
   "source": [
    "n_neig=[3,5,7,9,11,13,15];\n",
    "weigh= [\"uniform\",\"distance\"];\n",
    "metrics=[\"minkowski\",\"euclidean\",\"manhattan\"]\n",
    "maxkn=[0];\n",
    "\n",
    "\n",
    "for i in 1:length(n_neig);\n",
    "   for j in 1:length(weigh);        \n",
    "        for t in 1:length(metrics);\n",
    "       \n",
    "        f1_avscore=0;\n",
    "        \n",
    "        for k in 1:5; #Cross Validation\n",
    "                    \n",
    "         knnm=KNeighborsClassifier(n_neighbors=n_neig[i], weights=weigh[j], metric=metrics[t]);\n",
    "         ScikitLearn.fit!(knnm,Cross_val_part[k][1][:,1:8],Cross_val_part[k][1][:,9]);\n",
    "            \n",
    "        \n",
    "         pred=ScikitLearn.predict(knnm,(Cross_val_part[k][2])[:,1:8]);\n",
    "         pred=round.(Int, pred);   \n",
    "        \n",
    "        real=round.(Int, Cross_val_part[k][2][:,9]);\n",
    "        \n",
    "        precision=EvalMetrics.precision(pred,real);\n",
    "        recall=EvalMetrics.recall(pred,real);\n",
    "        \n",
    "        f1_score=2*precision*recall/(precision+recall)\n",
    "    \n",
    "        f1_avscore=f1_avscore+f1_score/5        \n",
    "        end\n",
    "    \n",
    "        if f1_avscore>maxkn[1];\n",
    "                maxkn=[f1_avscore, n_neig[i] , weigh[j], metrics[t]];\n",
    "\n",
    "        end\n",
    "            \n",
    "        end\n",
    "    end\n",
    "end\n",
    "println(maxi)\n",
    "\n",
    "println(\"Max average f1 score: $(maxkn[1]) \\nGiven by parameters n-neighbors=$(maxkn[2]), weights=$(maxkn[3]), metrics=$(maxkn[4])\")\n"
   ]
  },
  {
   "cell_type": "markdown",
   "id": "45501b51",
   "metadata": {},
   "source": [
    "## Decision trees:"
   ]
  },
  {
   "cell_type": "code",
   "execution_count": 272,
   "id": "8276350c",
   "metadata": {},
   "outputs": [
    {
     "name": "stderr",
     "output_type": "stream",
     "text": [
      "WARNING: redefinition of constant DecisionTreeClassifier. This may fail, cause incorrect answers, or produce other errors.\n"
     ]
    },
    {
     "data": {
      "text/plain": [
       "Dict{Any, Any} with 12 entries:\n",
       "  \"criterion\"                => \"gini\"\n",
       "  \"min_weight_fraction_leaf\" => 0.0\n",
       "  \"ccp_alpha\"                => 0.0\n",
       "  \"min_impurity_decrease\"    => 0.0\n",
       "  \"max_depth\"                => nothing\n",
       "  \"random_state\"             => nothing\n",
       "  \"splitter\"                 => \"best\"\n",
       "  \"class_weight\"             => nothing\n",
       "  \"min_samples_split\"        => 2\n",
       "  \"max_leaf_nodes\"           => nothing\n",
       "  \"min_samples_leaf\"         => 1\n",
       "  \"max_features\"             => nothing"
      ]
     },
     "execution_count": 272,
     "metadata": {},
     "output_type": "execute_result"
    }
   ],
   "source": [
    "@sk_import tree: DecisionTreeClassifier\n",
    "\n",
    "pdct=DecisionTreeClassifier().get_params() #observe hyperparameters"
   ]
  },
  {
   "cell_type": "code",
   "execution_count": 278,
   "id": "4deb92a9",
   "metadata": {},
   "outputs": [
    {
     "name": "stdout",
     "output_type": "stream",
     "text": [
      "Any[0.7124861090378332, \"gini\"]\n",
      "Max average f1 score: 0.7124861090378332 \n",
      "Given by parameters Criterion=gini\n"
     ]
    }
   ],
   "source": [
    "Criter=[\"gini\", \"entropy\"]     # Criterion    \n",
    "maxdt=[0]\n",
    "\n",
    "for i in 1:length(Criter);\n",
    "        f1_avscore=0;\n",
    "        \n",
    "        for k in 1:5; #Cross Validation\n",
    "                    \n",
    "         dtm=DecisionTreeClassifier(criterion=Criter[i]);\n",
    "         ScikitLearn.fit!(dtm,Cross_val_part[k][1][:,1:8],Cross_val_part[k][1][:,9]);\n",
    "            \n",
    "        \n",
    "         pred=ScikitLearn.predict(dtm,(Cross_val_part[k][2])[:,1:8]);\n",
    "         pred=round.(Int, pred);   \n",
    "        \n",
    "        real=round.(Int, Cross_val_part[k][2][:,9]);\n",
    "        \n",
    "        precision=EvalMetrics.precision(pred,real);\n",
    "        recall=EvalMetrics.recall(pred,real);\n",
    "        \n",
    "        f1_score=2*precision*recall/(precision+recall);    \n",
    "        f1_avscore=f1_avscore+f1_score/5;\n",
    "        \n",
    "        end\n",
    "    \n",
    "        if f1_avscore>maxdt[1];\n",
    "                maxdt=[f1_avscore, Criter[i]];\n",
    "\n",
    "        end\n",
    "end\n",
    "\n",
    "println(maxdt)\n",
    "\n",
    "println(\"Max average f1 score: $(maxdt[1]) \\nGiven by parameters Criterion=$(maxdt[2])\")"
   ]
  },
  {
   "cell_type": "markdown",
   "id": "b2db1e84",
   "metadata": {},
   "source": [
    "# Training and testing of models with chosen hyperparameters."
   ]
  },
  {
   "cell_type": "markdown",
   "id": "8bb47676",
   "metadata": {},
   "source": [
    "Now that we chose out hyperparameters, we'll perform a PCA on our training set, then train the different models with the chosen hyperparameters, apply the tranformation given by the previous PCA to our testing set, and finally applying the model to our training set for testing, and choosing the best one using f1-score criterion."
   ]
  },
  {
   "cell_type": "code",
   "execution_count": 279,
   "id": "92a6c280",
   "metadata": {},
   "outputs": [],
   "source": [
    "using MultivariateStats\n",
    "\n",
    "\n",
    "PCAmt=MultivariateStats.fit(PCA, Mtrain[:,1:60]', maxoutdim=8);;\n",
    "PCAtr=MultivariateStats.predict(PCAmt, Mtrain[:,1:60]')';\n",
    "PCAte=MultivariateStats.predict(PCAmt,Mtest[:,1:60]')';\n",
    "PCAtr=hcat(PCAtr,Mtrain[:,61]);\n",
    "testval=  round.(Int, Mtest[:,61]); \n"
   ]
  },
  {
   "cell_type": "markdown",
   "id": "6f82135f",
   "metadata": {},
   "source": [
    "## Linear regression "
   ]
  },
  {
   "cell_type": "code",
   "execution_count": 290,
   "id": "41793c55",
   "metadata": {},
   "outputs": [
    {
     "name": "stdout",
     "output_type": "stream",
     "text": [
      "F1-score for linear regression method is: 0.812\n"
     ]
    }
   ],
   "source": [
    "lin_reg_m = LinearRegression() #model\n",
    "ScikitLearn.fit!(lin_reg_m, PCAtr[:,1:8], PCAtr[:,9]) #training model\n",
    "linreg_pred = ScikitLearn.predict(lin_reg_m, PCAte[:,1:8]) #prediction\n",
    "lnrpred=[]\n",
    "\n",
    "for i in 1:length(linreg_pred)\n",
    "    if linreg_pred[i]>= 0.5\n",
    "        push!(lnrpred, 1)\n",
    "    else\n",
    "        push!(lnrpred, 0)\n",
    "    end\n",
    "end\n",
    "\n",
    "lnrpred=round.(Int, lnrpred);   \n",
    "        \n",
    "        \n",
    "precisionlr=EvalMetrics.precision(lnrpred,testval);\n",
    "recalllr=EvalMetrics.recall(lnrpred,testval);\n",
    "f1_score_lr=2*precisionlr*recalllr/(precisionlr+recalllr)\n",
    "f1_score_lr=round(f1_score_lr,digits=3)\n",
    "\n",
    "\n",
    "println(\"F1-score for linear regression method is: \", f1_score_lr)"
   ]
  },
  {
   "cell_type": "markdown",
   "id": "3b3635ae",
   "metadata": {},
   "source": [
    "## Logistic regression"
   ]
  },
  {
   "cell_type": "code",
   "execution_count": 291,
   "id": "11127a42",
   "metadata": {},
   "outputs": [
    {
     "name": "stdout",
     "output_type": "stream",
     "text": [
      "F1-score for logistic regression method is: 0.824\n"
     ]
    }
   ],
   "source": [
    "logreg_m = LogisticRegression(C= maxlr[2], penalty= maxlr[3]) # model\n",
    "ScikitLearn.fit!(logreg_m, PCAtr[:,1:8], PCAtr[:,9]) # training of the model\n",
    "logreg_pred = ScikitLearn.predict(logreg_m, PCAte) # Prediction\n",
    "\n",
    "logreg_pred=round.(Int, logreg_pred);   \n",
    "        \n",
    "        \n",
    "precisionlg=EvalMetrics.precision(logreg_pred,testval);\n",
    "recalllg=EvalMetrics.recall(logreg_pred,testval);\n",
    "f1_score_lg=2*precisionlg*recalllg/(precisionlg+recalllg)\n",
    "f1_score_lg=round(f1_score_lg,digits=3)\n",
    "\n",
    "\n",
    "\n",
    "println(\"F1-score for logistic regression method is: \", f1_score_lg)"
   ]
  },
  {
   "cell_type": "markdown",
   "id": "d8833702",
   "metadata": {},
   "source": [
    "## SVM"
   ]
  },
  {
   "cell_type": "code",
   "execution_count": 292,
   "id": "6d0ab51d",
   "metadata": {},
   "outputs": [
    {
     "name": "stdout",
     "output_type": "stream",
     "text": [
      "F1-score for support vector machine method is: 0.914\n"
     ]
    }
   ],
   "source": [
    "svm_m = SVC(C= maxsvm[2], kernel= maxsvm[3], gamma=maxsvm[4]) #model\n",
    "ScikitLearn.fit!(svm_m, PCAtr[:,1:8], PCAtr[:,9]) # training of the model\n",
    "svm_pred = ScikitLearn.predict(svm_m, PCAte) # Prediction\n",
    "\n",
    "svm_pred=round.(Int, svm_pred);   \n",
    "        \n",
    "        \n",
    "precisionsvm=EvalMetrics.precision(svm_pred,testval);\n",
    "recallsvm=EvalMetrics.recall(svm_pred,testval);\n",
    "f1_score_svm=2*precisionsvm*recallsvm/(precisionsvm+recallsvm)\n",
    "f1_score_svm=round(f1_score_svm,digits=3)\n",
    "\n",
    "\n",
    "println(\"F1-score for support vector machine method is: \", f1_score_svm)"
   ]
  },
  {
   "cell_type": "markdown",
   "id": "a65ffa09",
   "metadata": {},
   "source": [
    "## KNN"
   ]
  },
  {
   "cell_type": "code",
   "execution_count": 293,
   "id": "fc644a95",
   "metadata": {},
   "outputs": [
    {
     "name": "stdout",
     "output_type": "stream",
     "text": [
      "F1-score for K-nearest neighbors method is: 0.8\n"
     ]
    }
   ],
   "source": [
    "knn_m = KNeighborsClassifier(n_neighbors=maxkn[2], weights=maxkn[3], metric=maxkn[4])\n",
    "ScikitLearn.fit!(knn_m, PCAtr[:,1:8], PCAtr[:,9]) # training of the model\n",
    "kn_pred = ScikitLearn.predict(knn_m, PCAte) #  Prediction\n",
    "\n",
    "kn_pred=round.(Int, kn_pred);   \n",
    "        \n",
    "        \n",
    "precisionkn=EvalMetrics.precision(kn_pred,testval);\n",
    "recallkn=EvalMetrics.recall(kn_pred,testval);\n",
    "f1_score_kn=2*precisionkn*recallkn/(precisionkn+recallkn)\n",
    "f1_score_kn=round(f1_score_kn,digits=3)\n",
    "\n",
    "\n",
    "\n",
    "println(\"F1-score for K-nearest neighbors method is: \", f1_score_kn)"
   ]
  },
  {
   "cell_type": "markdown",
   "id": "13e8d526",
   "metadata": {},
   "source": [
    "## Decision trees"
   ]
  },
  {
   "cell_type": "code",
   "execution_count": 294,
   "id": "77c08437",
   "metadata": {},
   "outputs": [
    {
     "name": "stdout",
     "output_type": "stream",
     "text": [
      "F1-score for K-nearest neighbors method is: 0.706\n"
     ]
    }
   ],
   "source": [
    "dt_m = DecisionTreeClassifier(criterion=maxdt[2]);\n",
    "ScikitLearn.fit!(dt_m, PCAtr[:,1:8], PCAtr[:,9]) # training of the model\n",
    "dt_pred = ScikitLearn.predict(dt_m, PCAte) #  Prediction\n",
    "\n",
    "dt_pred=round.(Int, dt_pred);   \n",
    "        \n",
    "        \n",
    "precisiondt=EvalMetrics.precision(dt_pred,testval);\n",
    "recalldt=EvalMetrics.recall(dt_pred,testval);\n",
    "f1_score_dt=2*precisiondt*recalldt/(precisiondt+recalldt)\n",
    "f1_score_dt=round(f1_score_dt,digits=3)\n",
    "\n",
    "\n",
    "\n",
    "println(\"F1-score for K-nearest neighbors method is: \", f1_score_dt)"
   ]
  },
  {
   "cell_type": "markdown",
   "id": "021d638d",
   "metadata": {},
   "source": [
    "# Results and Conclusions:"
   ]
  },
  {
   "cell_type": "markdown",
   "id": "9f8f3667",
   "metadata": {},
   "source": [
    "We summarise the resulting performances of the classification models as follows:"
   ]
  },
  {
   "cell_type": "code",
   "execution_count": 295,
   "id": "277cdd52",
   "metadata": {},
   "outputs": [
    {
     "data": {
      "text/html": [
       "<div class=\"data-frame\"><p>5 rows × 2 columns</p><table class=\"data-frame\"><thead><tr><th></th><th>Models</th><th>F1_score</th></tr><tr><th></th><th title=\"String\">String</th><th title=\"Float64\">Float64</th></tr></thead><tbody><tr><th>1</th><td>Linear Regression</td><td>0.812</td></tr><tr><th>2</th><td>Logistic Regression</td><td>0.824</td></tr><tr><th>3</th><td>SVM</td><td>0.914</td></tr><tr><th>4</th><td>KNN</td><td>0.8</td></tr><tr><th>5</th><td>Decision tree</td><td>0.706</td></tr></tbody></table></div>"
      ],
      "text/latex": [
       "\\begin{tabular}{r|cc}\n",
       "\t& Models & F1\\_score\\\\\n",
       "\t\\hline\n",
       "\t& String & Float64\\\\\n",
       "\t\\hline\n",
       "\t1 & Linear Regression & 0.812 \\\\\n",
       "\t2 & Logistic Regression & 0.824 \\\\\n",
       "\t3 & SVM & 0.914 \\\\\n",
       "\t4 & KNN & 0.8 \\\\\n",
       "\t5 & Decision tree & 0.706 \\\\\n",
       "\\end{tabular}\n"
      ],
      "text/plain": [
       "\u001b[1m5×2 DataFrame\u001b[0m\n",
       "\u001b[1m Row \u001b[0m│\u001b[1m Models              \u001b[0m\u001b[1m F1_score \u001b[0m\n",
       "\u001b[1m     \u001b[0m│\u001b[90m String              \u001b[0m\u001b[90m Float64  \u001b[0m\n",
       "─────┼───────────────────────────────\n",
       "   1 │ Linear Regression       0.812\n",
       "   2 │ Logistic Regression     0.824\n",
       "   3 │ SVM                     0.914\n",
       "   4 │ KNN                     0.8\n",
       "   5 │ Decision tree           0.706"
      ]
     },
     "execution_count": 295,
     "metadata": {},
     "output_type": "execute_result"
    }
   ],
   "source": [
    "Results = DataFrame(\n",
    "    Models = [\"Linear Regression\", \"Logistic Regression\", \"SVM\", \"KNN\", \"Decision tree\"], \n",
    "    F1_score = [f1_score_lr, f1_score_lg, f1_score_svm, f1_score_kn, f1_score_dt],\n",
    "    )"
   ]
  },
  {
   "cell_type": "markdown",
   "id": "a5816d20",
   "metadata": {},
   "source": [
    "Thus we can finally conclude that the best model according to this criteria is Support Vector Machine, set with the following hyperparameters."
   ]
  },
  {
   "cell_type": "code",
   "execution_count": 297,
   "id": "5e6add25",
   "metadata": {},
   "outputs": [
    {
     "name": "stdout",
     "output_type": "stream",
     "text": [
      "C= 10\n",
      "Kernel= linear\n",
      "Gamma= 0.001\n"
     ]
    }
   ],
   "source": [
    "println(\"C= \", maxsvm[2], \"\\nKernel= \",maxsvm[3], \"\\nGamma= \", maxsvm[4])"
   ]
  },
  {
   "cell_type": "markdown",
   "id": "d5c666e9",
   "metadata": {},
   "source": [
    "From the work portrayed in this notebook I add some conclusions on the practices that allowed the well enough performance of our models, and some that weren't applied here but which could improve model performances and these performances' reliability.\n",
    "First we can say tha an adequate pre-treatment of the data is necessary for obtaining better model performance. This includes handling outliars, applying reduction of dimensionality methods if necessary, among others. In this notebook we used Maharanobis distance for removal of outliers and applied PCA in order to obtain more relevant features, the former can be improved by perhaps replacing outliers with the mean or median determined by a deeper analysis of the data. Thus the use of the PCA helped our models perform better, and the way in which we implemented it (not applying it to all our data, but just to the training sets, and then applying the obtained transformation to our testing sets, for both the choosing of hyperparameters and the choosing of methods with fixed hyperparameters), allows the performance of our models not to be biased towards our testing data, since the PCA didn´t depend on any testing data.\n",
    "\n",
    "There are other practices such as k-fold cross validation which can be carried out in order to obtain more realistic measurements for the performance of our models, and decreasing the chances of our models working well for the testing set only by the way we chose to partition our data. The latter technique can be done either to the training and validatition sets, to obtain betterer choices for hyperparameters, or to the training and testing sets, to obtain more trustable measurements of our final models. Since we did 5-fold cross validatition to the step where we chose our hyperparameters, we can say from a safer standpoint that our model's resulting performances can be more trustable.\n",
    "\n",
    "Finally, there are other methods apart from k-fold cross validation for choosing the best model that can be done to improve our models and the trustability in their measure performances, such as boosting.\n"
   ]
  }
 ],
 "metadata": {
  "kernelspec": {
   "display_name": "Julia 1.7.2",
   "language": "julia",
   "name": "julia-1.7"
  },
  "language_info": {
   "file_extension": ".jl",
   "mimetype": "application/julia",
   "name": "julia",
   "version": "1.7.2"
  }
 },
 "nbformat": 4,
 "nbformat_minor": 5
}
